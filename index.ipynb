{
 "cells": [
  {
   "cell_type": "code",
   "execution_count": null,
   "id": "e200027b",
   "metadata": {
    "vscode": {
     "languageId": "plaintext"
    }
   },
   "outputs": [],
   "source": [
    "import pandas as pd\n",
    "import numpy as np\n",
    "import matplotlib.pyplot as plt"
   ]
  },
  {
   "cell_type": "markdown",
   "id": "e9c98979",
   "metadata": {},
   "source": []
  },
  {
   "cell_type": "code",
   "id": "0dcc0c99",
   "metadata": {
    "vscode": {
     "languageId": "plaintext"
    },
    "ExecuteTime": {
     "end_time": "2025-08-16T09:35:52.828295Z",
     "start_time": "2025-08-16T09:35:52.194840Z"
    }
   },
   "source": [
    "x=[1,2,3,4,5]\n",
    "y=[1,2,3,4,5]\n",
    "plt.plot(x,y)"
   ],
   "outputs": [
    {
     "ename": "NameError",
     "evalue": "name 'plt' is not defined",
     "output_type": "error",
     "traceback": [
      "\u001B[31m---------------------------------------------------------------------------\u001B[39m",
      "\u001B[31mNameError\u001B[39m                                 Traceback (most recent call last)",
      "\u001B[36mCell\u001B[39m\u001B[36m \u001B[39m\u001B[32mIn[1]\u001B[39m\u001B[32m, line 3\u001B[39m\n\u001B[32m      1\u001B[39m x=[\u001B[32m1\u001B[39m,\u001B[32m2\u001B[39m,\u001B[32m3\u001B[39m,\u001B[32m4\u001B[39m,\u001B[32m5\u001B[39m]\n\u001B[32m      2\u001B[39m y=[\u001B[32m1\u001B[39m,\u001B[32m2\u001B[39m,\u001B[32m3\u001B[39m,\u001B[32m4\u001B[39m,\u001B[32m5\u001B[39m]\n\u001B[32m----> \u001B[39m\u001B[32m3\u001B[39m \u001B[43mplt\u001B[49m.plot(x,y)\n",
      "\u001B[31mNameError\u001B[39m: name 'plt' is not defined"
     ]
    }
   ],
   "execution_count": 1
  },
  {
   "cell_type": "code",
   "execution_count": null,
   "id": "7097c9a3",
   "metadata": {
    "vscode": {
     "languageId": "plaintext"
    }
   },
   "outputs": [],
   "source": []
  }
 ],
 "metadata": {
  "language_info": {
   "name": "python"
  }
 },
 "nbformat": 4,
 "nbformat_minor": 5
}
